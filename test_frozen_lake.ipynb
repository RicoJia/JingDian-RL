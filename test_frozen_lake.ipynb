{
 "cells": [
  {
   "cell_type": "code",
   "execution_count": 3,
   "metadata": {},
   "outputs": [
    {
     "name": "stderr",
     "output_type": "stream",
     "text": [
      "\u001b[32m\u001b[1m   Resolving\u001b[22m\u001b[39m package versions...\n"
     ]
    },
    {
     "name": "stderr",
     "output_type": "stream",
     "text": [
      "\u001b[32m\u001b[1m  No Changes\u001b[22m\u001b[39m to `~/.julia/environments/v1.9/Project.toml`\n",
      "\u001b[32m\u001b[1m  No Changes\u001b[22m\u001b[39m to `~/.julia/environments/v1.9/Manifest.toml`\n"
     ]
    },
    {
     "name": "stderr",
     "output_type": "stream",
     "text": [
      "\u001b[32m\u001b[1m    Building\u001b[22m\u001b[39m Conda ─→ `~/.julia/scratchspaces/44cfe95a-1eb2-52ea-b672-e2afdf69b78f/8c86e48c0db1564a1d49548d3515ced5d604c408/build.log`\n"
     ]
    },
    {
     "name": "stderr",
     "output_type": "stream",
     "text": [
      "\u001b[32m\u001b[1m    Building\u001b[22m\u001b[39m PyCall → `~/.julia/scratchspaces/44cfe95a-1eb2-52ea-b672-e2afdf69b78f/43d304ac6f0354755f1d60730ece8c499980f7ba/build.log`\n"
     ]
    },
    {
     "name": "stderr",
     "output_type": "stream",
     "text": [
      "\u001b[32m\u001b[1m   Resolving\u001b[22m\u001b[39m package versions...\n"
     ]
    },
    {
     "name": "stderr",
     "output_type": "stream",
     "text": [
      "\u001b[32m\u001b[1m  No Changes\u001b[22m\u001b[39m to `~/.julia/environments/v1.9/Project.toml`\n",
      "\u001b[32m\u001b[1m  No Changes\u001b[22m\u001b[39m to `~/.julia/environments/v1.9/Manifest.toml`\n"
     ]
    },
    {
     "name": "stderr",
     "output_type": "stream",
     "text": [
      "\u001b[32m\u001b[1m   Resolving\u001b[22m\u001b[39m package versions...\n"
     ]
    },
    {
     "name": "stderr",
     "output_type": "stream",
     "text": [
      "\u001b[32m\u001b[1m  No Changes\u001b[22m\u001b[39m to `~/.julia/environments/v1.9/Project.toml`\n",
      "\u001b[32m\u001b[1m  No Changes\u001b[22m\u001b[39m to `~/.julia/environments/v1.9/Manifest.toml`\n"
     ]
    },
    {
     "name": "stderr",
     "output_type": "stream",
     "text": [
      "\u001b[32m\u001b[1m   Resolving\u001b[22m\u001b[39m package versions...\n"
     ]
    },
    {
     "name": "stderr",
     "output_type": "stream",
     "text": [
      "\u001b[32m\u001b[1m  No Changes\u001b[22m\u001b[39m to `~/.julia/environments/v1.9/Project.toml`\n",
      "\u001b[32m\u001b[1m  No Changes\u001b[22m\u001b[39m to `~/.julia/environments/v1.9/Manifest.toml`\n"
     ]
    }
   ],
   "source": [
    "# README\n",
    "# RUN THIS FIRST TO build necessary packages\n",
    "ENV[\"PYTHON\"]=\"/usr/bin/python3\"\n",
    "using Pkg\n",
    "Pkg.add(\"PyCall\")\n",
    "Pkg.build(\"PyCall\")\n",
    "Pkg.add(\"Plots\")\n",
    "Pkg.add(\"Distributions\")\n",
    "Pkg.add(\"StatsPlots\")"
   ]
  },
  {
   "cell_type": "code",
   "execution_count": 14,
   "metadata": {},
   "outputs": [
    {
     "data": {
      "text/plain": [
       "PyObject <frozen_lake_env.FrozenLakeEnv object at 0x7f14deca19d0>"
      ]
     },
     "metadata": {},
     "output_type": "display_data"
    }
   ],
   "source": [
    "using PyCall\n",
    "using Libdl\n",
    "using Plots\n",
    "include(\"frozen_lake.jl\")\n",
    "plot()\n",
    "\n",
    "MAX_STEPS = 1000\n",
    "# add current directory to search path\n",
    "pushfirst!(PyVector(pyimport(\"sys\")[\"path\"]), \"\")\n",
    "env = pyimport(\"frozen_lake_env\").FrozenLakeEnv\n",
    "deterministic_env = env(map_name=\"4x4\",is_slippery=false)\n",
    "deterministic_large_env = env(map_name=\"8x8\",is_slippery=false)\n",
    "stochastic_env = env(map_name=\"4x4\",is_slippery=true)\n",
    "pyimport(\"sys\").stdout.flush()\n"
   ]
  },
  {
   "cell_type": "code",
   "execution_count": 12,
   "metadata": {},
   "outputs": [
    {
     "name": "stdout",
     "output_type": "stream",
     "text": [
      "4\n"
     ]
    }
   ],
   "source": [
    "\n",
    "function train(env, description, value_iteration)\n",
    "  episode_reward = 0\n",
    "  ob = env.reset()\n",
    "  P, nS, nA = env.P, env.nS, env.nA\n",
    "  println(nA)\n",
    "#   for t in 1:MAX_STEPS\n",
    "#     env.render(\"frozen_lake_state_output.tmp\")\n",
    "#     sleep(0.25)\n",
    "#     _, policy = value_iteration(P, nS, nA)\n",
    "#     println(policy, ob)\n",
    "#     a = policy[ob]\n",
    "#     ob, rew, done, _ = env.step(a)\n",
    "#     episode_reward += rew\n",
    "#     if !done\n",
    "#         println(\"The agent didn't reach a terminal state in $MAX_STEPS steps.\")\n",
    "#     else\n",
    "#         println(\"Episode reward: $episode_reward\")\n",
    "#         break\n",
    "#     end\n",
    "#   end\n",
    "\n",
    "end\n",
    "\n",
    "train(deterministic_env, \"Deterministic-4x4-FrozenLake-v0\", value_iteration)\n",
    "# train(deterministic_large_env, \"Deterministic-8x8-FrozenLake-v0\", value_iteration)\n",
    "# train(stochastic_env, \"Stochastic-4x4-FrozenLake-v0\", value_iteration)\n",
    "\n",
    "pyimport(\"sys\").stdout.flush()"
   ]
  },
  {
   "cell_type": "code",
   "execution_count": 10,
   "metadata": {},
   "outputs": [
    {
     "ename": "UndefVarError",
     "evalue": "UndefVarError: `nA` not defined",
     "output_type": "error",
     "traceback": [
      "UndefVarError: `nA` not defined\n",
      "\n",
      "Stacktrace:\n",
      " [1] top-level scope\n",
      "   @ ~/file_exchange_port/JingDian-RL/test_frozen_lake.ipynb:1"
     ]
    }
   ],
   "source": []
  }
 ],
 "metadata": {
  "kernelspec": {
   "display_name": "Julia 1.9.1",
   "language": "julia",
   "name": "julia-1.9"
  },
  "language_info": {
   "file_extension": ".jl",
   "mimetype": "application/julia",
   "name": "julia",
   "version": "1.9.1"
  },
  "orig_nbformat": 4
 },
 "nbformat": 4,
 "nbformat_minor": 2
}
